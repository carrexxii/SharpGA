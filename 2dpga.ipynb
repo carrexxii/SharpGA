{
 "cells": [
  {
   "cell_type": "code",
   "execution_count": 4,
   "metadata": {
    "dotnet_interactive": {
     "language": "fsharp"
    },
    "polyglot_notebook": {
     "kernelName": "fsharp"
    }
   },
   "outputs": [
    {
     "name": "stdout",
     "output_type": "stream",
     "text": [
      "v1 = 1 + 3; v2 = 2 + 2 + 6\n",
      "b1 = 4e01 + 5e02 + 6e12; b2 = 4e01 + 5e02 + 11e12\n",
      "s1 = 7e012; s2 = 15e012\n",
      "Multivec: 3.5 + 2 + 2 + 6 + 0e01 + 0e02 + 0e12 + 7e012\n"
     ]
    }
   ],
   "source": [
    "#load \"algebra.fs\"\n",
    "open PGA\n",
    "open PGA.PGA2D\n",
    "\n",
    "let v1 = vec 1 0 3\n",
    "let v2 = v1 + vec 1 2 3\n",
    "printfn $\"v1 = {v1}; v2 = {v2}\"\n",
    "\n",
    "let b1 = bivec 4 5 6\n",
    "let b2 = b1 + { Bivec.Default with e12 = 5.0<e12> }\n",
    "printfn $\"b1 = {b1}; b2 = {b2}\"\n",
    "\n",
    "let s1 = pss 7\n",
    "let s2 = s1 + pss 8\n",
    "printfn $\"s1 = {s1}; s2 = {s2}\"\n",
    "\n",
    "let mv = \n",
    "    { MultiVec.Default with\n",
    "        scalar = 3.5\n",
    "        vec    = v2\n",
    "        pss    = s1 }\n",
    "printfn $\"Multivec: {mv}\""
   ]
  }
 ],
 "metadata": {
  "kernelspec": {
   "display_name": ".NET (C#)",
   "language": "C#",
   "name": ".net-csharp"
  },
  "language_info": {
   "name": "polyglot-notebook"
  },
  "polyglot_notebook": {
   "kernelInfo": {
    "defaultKernelName": "csharp",
    "items": [
     {
      "aliases": [],
      "name": "csharp"
     },
     {
      "aliases": [],
      "languageName": "fsharp",
      "name": "fsharp"
     }
    ]
   }
  }
 },
 "nbformat": 4,
 "nbformat_minor": 2
}
