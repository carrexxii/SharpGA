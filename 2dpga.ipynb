{
 "cells": [
  {
   "cell_type": "code",
   "execution_count": 3,
   "metadata": {
    "dotnet_interactive": {
     "language": "fsharp"
    },
    "polyglot_notebook": {
     "kernelName": "fsharp"
    }
   },
   "outputs": [
    {
     "ename": "Error",
     "evalue": "input.fsx (5,10)-(5,11) typecheck error The value or constructor 'v' is not defined.",
     "output_type": "error",
     "traceback": [
      "input.fsx (5,10)-(5,11) typecheck error The value or constructor 'v' is not defined."
     ]
    }
   ],
   "source": [
    "#load \"algebra.fs\"\n",
    "open PGA.PGA2D\n",
    "\n",
    "let v1 = vec 1 2 3\n",
    "let v2 = v1 + vec 1 2 3\n",
    "printfn $\"v1 = {v1}; v2 = {v2}\"\n",
    "\n",
    "let b1 = bivec 4 5 6\n",
    "let b2 = b1 + bivec 1 1 1\n",
    "printfn $\"b1 = {b1}; b2 = {b2}\"\n",
    "\n",
    "let s1 = pss 7\n",
    "let s2 = s1 + pss 8\n",
    "printfn $\"s1 = {s1}; s2 = {s2}\""
   ]
  }
 ],
 "metadata": {
  "kernelspec": {
   "display_name": ".NET (C#)",
   "language": "C#",
   "name": ".net-csharp"
  },
  "language_info": {
   "name": "polyglot-notebook"
  },
  "polyglot_notebook": {
   "kernelInfo": {
    "defaultKernelName": "csharp",
    "items": [
     {
      "aliases": [],
      "name": "csharp"
     },
     {
      "aliases": [],
      "languageName": "fsharp",
      "name": "fsharp"
     }
    ]
   }
  }
 },
 "nbformat": 4,
 "nbformat_minor": 2
}
