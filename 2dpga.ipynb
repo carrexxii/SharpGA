{
 "cells": [
  {
   "cell_type": "code",
   "execution_count": 1,
   "metadata": {
    "dotnet_interactive": {
     "language": "fsharp"
    },
    "polyglot_notebook": {
     "kernelName": "fsharp"
    }
   },
   "outputs": [
    {
     "name": "stderr",
     "output_type": "stream",
     "text": [
      "Stopped due to error\n"
     ]
    },
    {
     "ename": "Error",
     "evalue": "input.fsx (2,6)-(2,9) typecheck error The namespace or module 'PGA' is not defined. Maybe you want one of the following:\n   FPGA\ninput.fsx (3,6)-(3,9) typecheck error The namespace or module 'PGA' is not defined. Maybe you want one of the following:\n   FPGA\ninput.fsx (5,10)-(5,13) typecheck error The value or constructor 'vec' is not defined.\ninput.fsx (6,15)-(6,18) typecheck error The value or constructor 'vec' is not defined.\ninput.fsx (9,10)-(9,15) typecheck error The value or constructor 'bivec' is not defined.\ninput.fsx (10,17)-(10,22) typecheck error The value, namespace, type or module 'Bivec' is not defined.\ninput.fsx (10,36)-(10,39) typecheck error The record label 'e12' is not defined.\ninput.fsx (10,15)-(10,52) typecheck error The expression form { expr with ... } may only be used with record types. To build object types use { new Type(...) with ... }\ninput.fsx (13,10)-(13,13) typecheck error The value or constructor 'pss' is not defined. Maybe you want one of the following:\n   CSS\ninput.fsx (14,15)-(14,18) typecheck error The value or constructor 'pss' is not defined. Maybe you want one of the following:\n   CSS\ninput.fsx (18,7)-(18,15) typecheck error The value, namespace, type or module 'MultiVec' is not defined.\ninput.fsx (19,9)-(19,15) typecheck error The record label 'scalar' is not defined.\ninput.fsx (20,9)-(20,12) typecheck error The record label 'vec' is not defined.\ninput.fsx (21,9)-(21,12) typecheck error The record label 'pss' is not defined.\ninput.fsx (18,5)-(21,22) typecheck error The expression form { expr with ... } may only be used with record types. To build object types use { new Type(...) with ... }",
     "output_type": "error",
     "traceback": [
      "input.fsx (2,6)-(2,9) typecheck error The namespace or module 'PGA' is not defined. Maybe you want one of the following:\n",
      "   FPGA\n",
      "input.fsx (3,6)-(3,9) typecheck error The namespace or module 'PGA' is not defined. Maybe you want one of the following:\n",
      "   FPGA\n",
      "input.fsx (5,10)-(5,13) typecheck error The value or constructor 'vec' is not defined.\n",
      "input.fsx (6,15)-(6,18) typecheck error The value or constructor 'vec' is not defined.\n",
      "input.fsx (9,10)-(9,15) typecheck error The value or constructor 'bivec' is not defined.\n",
      "input.fsx (10,17)-(10,22) typecheck error The value, namespace, type or module 'Bivec' is not defined.\n",
      "input.fsx (10,36)-(10,39) typecheck error The record label 'e12' is not defined.\n",
      "input.fsx (10,15)-(10,52) typecheck error The expression form { expr with ... } may only be used with record types. To build object types use { new Type(...) with ... }\n",
      "input.fsx (13,10)-(13,13) typecheck error The value or constructor 'pss' is not defined. Maybe you want one of the following:\n",
      "   CSS\n",
      "input.fsx (14,15)-(14,18) typecheck error The value or constructor 'pss' is not defined. Maybe you want one of the following:\n",
      "   CSS\n",
      "input.fsx (18,7)-(18,15) typecheck error The value, namespace, type or module 'MultiVec' is not defined.\n",
      "input.fsx (19,9)-(19,15) typecheck error The record label 'scalar' is not defined.\n",
      "input.fsx (20,9)-(20,12) typecheck error The record label 'vec' is not defined.\n",
      "input.fsx (21,9)-(21,12) typecheck error The record label 'pss' is not defined.\n",
      "input.fsx (18,5)-(21,22) typecheck error The expression form { expr with ... } may only be used with record types. To build object types use { new Type(...) with ... }"
     ]
    }
   ],
   "source": [
    "#load \"algebra.fs\"\n",
    "open FPGA\n",
    "open FPGA.PGA2D\n",
    "\n",
    "let v1 = vec 1 0 3\n",
    "let v2 = v1 + vec 1 2 3\n",
    "printfn $\"v1 = {v1}; v2 = {v2}\"\n",
    "\n",
    "let b1 = bivec 4 5 6\n",
    "let b2 = b1 + { Bivec.Default with e12 = 5.0<e12> }\n",
    "printfn $\"b1 = {b1}; b2 = {b2}\"\n",
    "\n",
    "let s1 = pss 7\n",
    "let s2 = s1 + pss 8\n",
    "printfn $\"s1 = {s1}; s2 = {s2}\"\n",
    "\n",
    "let mv = \n",
    "    { MultiVec.Default with\n",
    "        scalar = 3.5\n",
    "        vec    = v2\n",
    "        pss    = s1 }\n",
    "printfn $\"Multivec: {mv}\""
   ]
  },
  {
   "cell_type": "markdown",
   "metadata": {},
   "source": [
    "The definition of the wedge $\\wedge$ product is: $a \\wedge b = \\langle ab \\rangle _{s + t}$ where $s$ and $t$ are the grades of $a$ and $b$ respectively.\n",
    "\n",
    "First, let's calculate a formula for the outer product of two vectors $a$ and $b$. As vectors are 1-blades, $s + t = 2$ so we should get a 2-blade (which is a bivector):\n",
    "$$\n",
    "\\def \\e{\\mathbf{e}}\n",
    "\\begin{align*}\n",
    "    a \\wedge b =\\, &(a_0\\e_0 + a_1\\e_1 + a_2\\e_2) \\wedge (b_0\\e_0 + b_1\\e_1 + b_2\\e_2) \\\\\n",
    "               =\\, &(a_0b_0\\e_0\\e_0 + a_0b_1\\e_0\\e_1 + a_0b_2\\e_0\\e_2) + \\\\\n",
    "                \\, &(a_1b_0\\e_1\\e_0 + a_1b_1\\e_1\\e_1 + a_1b_2\\e_1\\e_2) + \\\\\n",
    "                \\, &(a_2b_0\\e_2\\e_0 + a_2b_1\\e_2\\e_1 + a_2b_2\\e_2\\e_2)   \\\\\n",
    "               =\\, &(a_0b_1\\e_0\\e_1 + a_0b_2\\e_0\\e_2) + \\\\\n",
    "                \\, &(a_1b_0\\e_1\\e_0 + a_1b_2\\e_1\\e_2) + \\\\\n",
    "                \\, &(a_2b_0\\e_2\\e_0 + a_2b_1\\e_2\\e_1)   \\\\\n",
    "               =\\, &(a_0b_1\\e_{01} + a_0b_2\\e_{02}) + \\\\\n",
    "                \\, &(a_1b_0\\e_{10} + a_1b_2\\e_{12}) + \\\\\n",
    "                \\, &(a_2b_0\\e_{20} + a_2b_1\\e_{21})   \\\\\n",
    "               =\\, &(a_0b_1\\e_{01} + a_0b_2\\e_{02})  + \\\\\n",
    "                \\, &(-a_1b_0\\e_{01} + a_1b_2\\e_{12}) + \\\\\n",
    "                \\, &(-a_2b_0\\e_{02} - a_2b_1\\e_{12})   \\\\\n",
    "               =\\, &a_0b_1\\e_{01} + a_0b_2\\e_{02} - a_1b_0\\e_{01} + a_1b_2\\e_{12} - a_2b_0\\e_{02} - a_2b_1\\e_{12} \\\\\n",
    "               =\\, &(a_0b_1 - a_1b_0)\\e_{01} + (a_0b_2 - a_2b_0)\\e_{02} + (a_1b_2 - a_2b_1)\\e_{12} \\\\\n",
    "\\end{align*}\n",
    "$$\n",
    "And, as you can see the three basis vectors we have ($\\e_{01}, \\e_{02}, \\e_{12}$) are the bivector basis vectors."
   ]
  },
  {
   "cell_type": "markdown",
   "metadata": {},
   "source": [
    "Now for outer product of two bivectors $A$ and $B$. We should expect a grade of $s + t = 2 + 2 = 4$, but we don't have a 4-blade. In 2D PGA, we only have up to a 3-blade so that means the outer product between two bivectors doesn't have meaning here. \n",
    "$$\n",
    "\\def \\e{\\mathbf{e}}\n",
    "\\begin{align*}\n",
    "    A \\wedge B &= (A_0\\e_{01} + A_1\\e_{02} + A_2\\e_{12}) \\wedge (B_0\\e_{01} + B_1\\e_{02} + B_2\\e_{12}) \\\\\n",
    "               &= A_0B_2\\e_{01}\\e_{12} + A_1B_2\\e_{02}\\e_{12} + A_2B_0\\e_{12}\\e_{01} + A_2B_1\\e_{12}\\e_{02} + A_2B_2\\e_{12}\\e_{12} \\\\\n",
    "               &= A_0B_2\\e_{02} - A_1B_2\\e_{01} - A_2B_0\\e_{02} + A_2B_1\\e_{01} - A_2B_2 \\\\\n",
    "               &= (A_0B_2 - A_2B_0)\\e_{02} + (A_2B_1 - A_1B_2)\\e_{01} - A_2B_2 \\\\\n",
    "               &= 0 \\\\\n",
    "\\end{align*}\n",
    "$$\n",
    "And of course after we select our desired grade of 4, there is nothing left because we only have grade 2 and grade 0 values. If we had done this in 3D PGA, however, we would get an answer because it contains a 4-blade. Now, as to why this value doesn't exist - it makes sense as bivectors represent points and the outer product is a _meet_ operation. Points do not \"meet\" anywhere because they don't occupy any area so their \"meet\" is 0."
   ]
  },
  {
   "cell_type": "code",
   "execution_count": 2,
   "metadata": {
    "dotnet_interactive": {
     "language": "fsharp"
    },
    "polyglot_notebook": {
     "kernelName": "fsharp"
    }
   },
   "outputs": [
    {
     "ename": "Error",
     "evalue": "input.fsx (1,16)-(1,19) typecheck error The value or constructor 'vec' is not defined.\ninput.fsx (1,32)-(1,35) typecheck error The value or constructor 'vec' is not defined.\ninput.fsx (4,16)-(4,19) typecheck error The value or constructor 'vec' is not defined.\ninput.fsx (4,32)-(4,37) typecheck error The value or constructor 'bivec' is not defined.",
     "output_type": "error",
     "traceback": [
      "input.fsx (1,16)-(1,19) typecheck error The value or constructor 'vec' is not defined.\n",
      "input.fsx (1,32)-(1,35) typecheck error The value or constructor 'vec' is not defined.\n",
      "input.fsx (4,16)-(4,19) typecheck error The value or constructor 'vec' is not defined.\n",
      "input.fsx (4,32)-(4,37) typecheck error The value or constructor 'bivec' is not defined."
     ]
    }
   ],
   "source": [
    "let ``a∧b`` = (vec 1 2 3) .^. (vec 4 5 6)\n",
    "printfn $\"(e0 + 2e1 + 3e2) ∧ (4e0 + 5e1 + 6e2) = {``a∧b``}\"\n",
    "\n",
    "let ``a∧B`` = (vec 1 2 3) .^. (bivec 4 5 6)\n",
    "printfn $\"(e0 + 2e1 + 3e2) ∧ (4e01 + 5e02 + 6e12) = {``a∧B``}\""
   ]
  },
  {
   "cell_type": "markdown",
   "metadata": {},
   "source": [
    "The outer product for a vector and a bivector should have grade $1 + 2 = 3$. In other words, we are looing for a 3-blade/pseudoscalar.\n",
    "$$\n",
    "\\def \\e{\\mathbf{e}}\n",
    "\\begin{align*}\n",
    "    a \\wedge B &= (a_0\\e_0 + a_1\\e_1 + a_2\\e_2) \\wedge (B_0\\e_{01} + B_1\\e_{02} + B_2\\e_{12}) \\\\\n",
    "               &= a_0B_2\\e_0\\e_{12} + a_1B_1\\e_1\\e_{02} + a_2B_0\\e_2\\e_{01} \\\\\n",
    "               &= a_0B_2\\e_{012} + a_1B_1\\e_{102} + a_2B_0\\e_{201} \\\\\n",
    "               &= a_0B_2\\e_{012} - a_1B_1\\e_{012} + a_2B_0\\e_{012} \\\\\n",
    "               &= (a_0B_2 - a_1B_1 + a_2B_0)\\e_{012} \\\\\n",
    "\\end{align*}\n",
    "$$"
   ]
  },
  {
   "cell_type": "code",
   "execution_count": 3,
   "metadata": {
    "dotnet_interactive": {
     "language": "fsharp"
    },
    "polyglot_notebook": {
     "kernelName": "fsharp"
    }
   },
   "outputs": [
    {
     "ename": "Error",
     "evalue": "input.fsx (1,17)-(1,22) typecheck error The value or constructor 'bivec' is not defined.\ninput.fsx (1,35)-(1,38) typecheck error The value or constructor 'vec' is not defined.",
     "output_type": "error",
     "traceback": [
      "input.fsx (1,17)-(1,22) typecheck error The value or constructor 'bivec' is not defined.\n",
      "input.fsx (1,35)-(1,38) typecheck error The value or constructor 'vec' is not defined."
     ]
    }
   ],
   "source": [
    "let  ``B∧a`` = (bivec 2 4 6) .^. (vec 1 3 5)\n",
    "printfn $\"(2e01 + 4e02 + 6e12) ∧ (e0 + 3e1 + 5e2) = {``B∧a``}\"\n"
   ]
  }
 ],
 "metadata": {
  "kernelspec": {
   "display_name": ".NET (C#)",
   "language": "C#",
   "name": ".net-csharp"
  },
  "language_info": {
   "name": "polyglot-notebook"
  },
  "polyglot_notebook": {
   "kernelInfo": {
    "defaultKernelName": "csharp",
    "items": [
     {
      "aliases": [],
      "name": "csharp"
     },
     {
      "aliases": [],
      "languageName": "fsharp",
      "name": "fsharp"
     }
    ]
   }
  }
 },
 "nbformat": 4,
 "nbformat_minor": 2
}
